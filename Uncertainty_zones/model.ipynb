{
 "cells": [
  {
   "cell_type": "code",
   "execution_count": 1,
   "metadata": {},
   "outputs": [],
   "source": [
    "import numpy as np"
   ]
  },
  {
   "attachments": {},
   "cell_type": "markdown",
   "metadata": {},
   "source": [
    "# A New Approach for the Dynamics of Ultra-High-Frequency Data: The Model with Uncertainty Zones"
   ]
  },
  {
   "attachments": {},
   "cell_type": "markdown",
   "metadata": {},
   "source": [
    "This notebook attempts to reproduce the main findings and simulations of the paper from M. Mathieu Rosenbaum et M. Christian Y. Robert published in the Journal of Financial Econometrics, 2011, Vol. 9, No. 2, 344-366."
   ]
  },
  {
   "attachments": {},
   "cell_type": "markdown",
   "metadata": {},
   "source": [
    "## Model"
   ]
  },
  {
   "attachments": {},
   "cell_type": "markdown",
   "metadata": {},
   "source": [
    "In our notebook we stick to the same notation as in the paper. For more details please refer to it.\n",
    "\n",
    "Let $(X_{t})_{t \\geq 0}$ be the efficient price of the asset. Let $(\\Omega, (\\mathcal{F}_{t})_{t\\geq 0},\\mathbb{P})$ be the filtered probability space, and $(W_{t})_{t\\geq 0}$ a standard $\\mathcal{F}$-Brownian motion. We assume that the logarithm of the price is $\\mathcal{F}_{t}$-adapted continuous semi-martingale that follows the equation:\n",
    "\n",
    "$$\n",
    "Y_{t} = \\log(X_{t}) = \\log(X_{0}) + \\int_{0}^{t} a_{u}dt + \\int_{0}^{t}\\sigma_{u-} dW_{u}\n",
    "$$"
   ]
  },
  {
   "attachments": {},
   "cell_type": "markdown",
   "metadata": {},
   "source": [
    "We define the tick grid as $\\{k\\alpha, k\\in\\mathbb{N}\\}$ with $\\alpha$ the tick size. We now define the uncertainty zones in between the mid-points of the tick grid as $\\mathcal{U}_{k} = [0,+\\infty) \\times (d_{k}, u_{k})$ with:\n",
    "\n",
    "$$\n",
    "d_{k} = \\left(k + \\frac{1}{2} - \\eta\\right)\\alpha \\quad\\text{and}\\quad u_{k} = \\left(k+\\frac{1}{2}+\\eta\\right) \\alpha\n",
    "$$"
   ]
  },
  {
   "attachments": {},
   "cell_type": "markdown",
   "metadata": {},
   "source": [
    "Let us now define the sequence of exit times form uncertainty zones $(\\tau_{i})_{i\\geq 0}$. We take $\\tau_{0} = 0$ and we assume that we start at the tick $k_{0} = X_{0}^{(\\alpha)} / \\alpha$, $X_{0}^{(\\alpha)}$ being $X_{0}$ rounded to the nearest multiple of $\\alpha$. Let $\\tau_{1}$ be the first exit time from the set $(d_{k_{0}-1}, u_{k_{0}})$."
   ]
  }
 ],
 "metadata": {
  "kernelspec": {
   "display_name": "Python 3",
   "language": "python",
   "name": "python3"
  },
  "language_info": {
   "codemirror_mode": {
    "name": "ipython",
    "version": 3
   },
   "file_extension": ".py",
   "mimetype": "text/x-python",
   "name": "python",
   "nbconvert_exporter": "python",
   "pygments_lexer": "ipython3",
   "version": "3.11.4"
  },
  "orig_nbformat": 4
 },
 "nbformat": 4,
 "nbformat_minor": 2
}
