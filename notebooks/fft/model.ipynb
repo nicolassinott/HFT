{
 "cells": [
  {
   "cell_type": "code",
   "execution_count": 1,
   "metadata": {},
   "outputs": [],
   "source": [
    "import numpy as np\n",
    "import matplotlib.pyplot as plt"
   ]
  },
  {
   "attachments": {},
   "cell_type": "markdown",
   "metadata": {},
   "source": [
    "# FFT for option pricing"
   ]
  },
  {
   "attachments": {},
   "cell_type": "markdown",
   "metadata": {},
   "source": [
    "talk in the motivation that it is interesting to use this method because computationally is very good, complexity is N log N instead of N2"
   ]
  },
  {
   "attachments": {},
   "cell_type": "markdown",
   "metadata": {},
   "source": [
    "We would like to dive deeper in the study of option price of assets under the Heston model. Since we can find analytically the characteristic function of the risk-neutral density of such assets, we can use the proposed FFT method for option pricing. Here we will study the pricing of an European call of maturity $T$, hence with payoff:\n",
    "\n",
    "$$\n",
    "\\text{Payoff} = (S_{T} - K)^{+}\n",
    "$$\n",
    "\n",
    "Where $S_{T}$ is the price at maturity of the given asset. In the following we will keep the same notation as in the paper. \n",
    "\n",
    "Let us look at the risk-neutral density of the log price $s_{T} = \\log(S_{T})$ of density $q_{T}$. The characteristic function of the log price is therefore:\n",
    "\n",
    "$$\n",
    "\\phi_{T}(u) = \\int_{-\\infty}^{\\infty} e^{ius}q_{T}(s)ds\n",
    "$$\n",
    "\n",
    "Under the risk-neutral assumption, we have that the price $C_{T}(k)$ of an European call with strike log-strike $k$ ($k = \\log(K)$) and maturity $T$:\n",
    "\n",
    "$$\n",
    "C_{T}(k) = \\int_{k}^{+\\infty} e^{-rT} (e^{s} - e^{k}) q_{T}(s)ds\n",
    "$$\n",
    "\n",
    "Since when $k\\rightarrow - \\infty$ we have that $C_{T}(k)\\rightarrow S_{0}$, the price of the call is not square-integrable, and thus we perform the following adaptation:\n",
    "\n",
    "$$\n",
    "c_{T}(k) := e^{\\alpha k} C_{T}(k)\n",
    "$$\n",
    "\n",
    "Which, for a certain range of values of $\\alpha$ that will be determined later, makes $c_{T}(k)$ a square integrable function in $k$. Now let us perform the Fourier transform of $c_{T}(k)$:\n",
    "\n",
    "$$\n",
    "\\Psi(v) = \\int_{-\\infty}^{+\\infty} e^{ivk}c_{T}(k)dk\n",
    "$$\n",
    "\n",
    "Using the inverse Fourier transform, we can retrieve the call price:\n",
    "\n",
    "$$\n",
    "C_{T}(k) = \\frac{e^{- \\alpha k}}{2\\pi}\\int_{-\\infty}^{\\infty}e^{-ivk}\\Psi_{T}(v)dv\n",
    "$$\n",
    "\n",
    "Since $C_{T}(k)$ is real:\n",
    "\n",
    "$$\n",
    "C_{T}(k) = \\frac{e^{- \\alpha k}}{\\pi}\\int_{0}^{\\infty}e^{-ivk}\\Psi_{T}(v)dv\n",
    "$$\n",
    "\n",
    "Now if we look back at the forward Fourier transform, may compute it explicitely:\n",
    "\n",
    "$$\n",
    "\\Psi_{T}(v) = \\int_{-\\infty}^{\\infty} e^{ivk} \\int_{k}^{+\\infty}e^{\\alpha k} e^{-rT}(e^{s} - e^{k})q_{T}(s) dsdv\n",
    "$$\n",
    "\n",
    "Inversing the integrals:\n",
    "\n",
    "$$\n",
    "\\Psi_{T}(v) = \\int_{-\\infty}^{\\infty} e^{-rT} q_{T}(s)\\int_{-\\infty}^{s}(e^{s+\\alpha k} - e^{1+\\alpha}k)e^{ivk}dkds\n",
    "$$\n",
    "\n",
    "$$\n",
    "\\Psi_{T}(v) = \\int_{-\\infty}^{\\infty} e^{-rT} q_{T}(s) \\left(\\frac{e^{(\\alpha + 1 + iv)s}}{\\alpha + iv} - \\frac{e^{(\\alpha + 1 + iv)s}}{\\alpha + 1 + iv}\\right) ds\n",
    "$$\n",
    "\n",
    "$$\n",
    "\\Psi_{T}(v) = \\frac{e^{-rT}}{\\alpha^{2} + \\alpha - v^{2} + i(2\\alpha + 1)v}   \\int_{-\\infty}^{\\infty} e^{i(v -(\\alpha + 1)i)s} q_{T}(s) ds\n",
    "$$\n",
    "\n",
    "Which is exactly, by using the characteristic function of the log-price:\n",
    "\n",
    "$$\n",
    "\\Psi_{T}(v) = \\frac{e^{-rT} \\phi_{T}(v - (\\alpha + 1)i)}{\\alpha^{2} + \\alpha - v^{2} + i(2\\alpha + 1)v} \n",
    "$$\n",
    "\n",
    "Hence, we could replace that on our equation for $C_{T}(k)$:\n",
    "\n",
    "$$\n",
    "C_{T}(k) = \\frac{e^{- \\alpha k}}{\\pi}\\int_{0}^{\\infty}e^{-ivk}\\Psi_{T}(v)dv\n",
    "$$\n",
    "\n",
    "To obtain the price of our call. We remark that this is simply a direct Fourier transform. As indicated in the paper, we remark that the denominator vanishes when both $\\alpha = 0$ and $v = 0$, inducing a singularity, which reinforces the choice of adding $\\alpha$ for integrability purposes."
   ]
  },
  {
   "attachments": {},
   "cell_type": "markdown",
   "metadata": {},
   "source": [
    "## Adressing the choice of $\\alpha$"
   ]
  },
  {
   "attachments": {},
   "cell_type": "markdown",
   "metadata": {},
   "source": [
    "## Option pricing using FFT"
   ]
  },
  {
   "attachments": {},
   "cell_type": "markdown",
   "metadata": {},
   "source": [
    "Now we move to the numerical part of the problem. "
   ]
  },
  {
   "attachments": {},
   "cell_type": "markdown",
   "metadata": {},
   "source": [
    "## Computing $\\Psi$"
   ]
  },
  {
   "attachments": {},
   "cell_type": "markdown",
   "metadata": {},
   "source": [
    "Using the results given by the paper ..."
   ]
  },
  {
   "attachments": {},
   "cell_type": "markdown",
   "metadata": {},
   "source": []
  },
  {
   "cell_type": "code",
   "execution_count": null,
   "metadata": {},
   "outputs": [],
   "source": []
  },
  {
   "cell_type": "code",
   "execution_count": 3,
   "metadata": {},
   "outputs": [],
   "source": [
    "# # Generate sample data\n",
    "# sample_rate = 1000  # Number of samples per second\n",
    "# duration = 1  # Duration in seconds\n",
    "# t = np.arange(0, duration, 1/sample_rate)  # Time array\n",
    "# frequency1 = 50  # Frequency of the first sine wave in Hz\n",
    "# frequency2 = 120  # Frequency of the second sine wave in Hz\n",
    "# signal = np.sin(2 * np.pi * frequency1 * t) + 0.5 * np.sin(2 * np.pi * frequency2 * t)\n",
    "\n",
    "# # Perform FFT\n",
    "# fft_result = np.fft.fft(signal)\n",
    "# frequencies = np.fft.fftfreq(len(fft_result), 1/sample_rate)\n",
    "\n",
    "# # Plot the original signal and its FFT\n",
    "# plt.subplot(2, 1, 1)\n",
    "# plt.plot(t, signal)\n",
    "# plt.title('Original Signal')\n",
    "\n",
    "# plt.subplot(2, 1, 2)\n",
    "# plt.plot(frequencies, np.abs(fft_result))\n",
    "# plt.title('FFT Result')\n",
    "# plt.xlabel('Frequency (Hz)')\n",
    "\n",
    "# plt.tight_layout()\n",
    "# plt.show()"
   ]
  }
 ],
 "metadata": {
  "kernelspec": {
   "display_name": "venv",
   "language": "python",
   "name": "python3"
  },
  "language_info": {
   "codemirror_mode": {
    "name": "ipython",
    "version": 3
   },
   "file_extension": ".py",
   "mimetype": "text/x-python",
   "name": "python",
   "nbconvert_exporter": "python",
   "pygments_lexer": "ipython3",
   "version": "3.9.18"
  },
  "orig_nbformat": 4
 },
 "nbformat": 4,
 "nbformat_minor": 2
}
