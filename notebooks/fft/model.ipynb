{
 "cells": [
  {
   "cell_type": "code",
   "execution_count": 16,
   "metadata": {},
   "outputs": [],
   "source": [
    "import numpy as np\n",
    "import matplotlib.pyplot as plt"
   ]
  },
  {
   "attachments": {},
   "cell_type": "markdown",
   "metadata": {},
   "source": [
    "# FFT for option pricing"
   ]
  },
  {
   "attachments": {},
   "cell_type": "markdown",
   "metadata": {},
   "source": [
    "talk in the motivation that it is interesting to use this method because computationally is very good, complexity is N log N instead of N2"
   ]
  },
  {
   "attachments": {},
   "cell_type": "markdown",
   "metadata": {},
   "source": [
    "We would like to dive deeper in the study of option price of assets under the Heston model. Since we can find analytically the characteristic function of the risk-neutral density of such assets, we can use the proposed FFT method for option pricing. Here we will study the pricing of an European call of maturity $T$, hence with payoff:\n",
    "\n",
    "$$\n",
    "\\text{Payoff} = (S_{T} - K)^{+}\n",
    "$$\n",
    "\n",
    "Where $S_{T}$ is the price at maturity of the given asset. In the following we will keep the same notation as in the paper. \n",
    "\n",
    "Let us look at the risk-neutral density of the log price $s_{T} = \\log(S_{T})$ of density $q_{T}$. The characteristic function of the log price is therefore:\n",
    "\n",
    "$$\n",
    "\\phi_{T}(u) = \\int_{-\\infty}^{\\infty} e^{ius}q_{T}(s)ds\n",
    "$$\n",
    "\n",
    "Under the risk-neutral assumption, we have that the price $C_{T}(k)$ of an European call with strike log-strike $k$ ($k = \\log(K)$) and maturity $T$:\n",
    "\n",
    "$$\n",
    "C_{T}(k) = \\int_{k}^{+\\infty} e^{-rT} (e^{s} - e^{k}) q_{T}(s)ds\n",
    "$$\n",
    "\n",
    "Since when $k\\rightarrow - \\infty$ we have that $C_{T}(k)\\rightarrow S_{0}$, the price of the call is not square-integrable, and thus we perform the following adaptation:\n",
    "\n",
    "$$\n",
    "c_{T}(k) := e^{\\alpha k} C_{T}(k)\n",
    "$$\n",
    "\n",
    "Which, for a certain range of values of $\\alpha$ that will be determined later, makes $c_{T}(k)$ a square integrable function in $k$. Now let us perform the Fourier transform of $c_{T}(k)$:\n",
    "\n",
    "$$\n",
    "\\Psi(v) = \\int_{-\\infty}^{+\\infty} e^{ivk}c_{T}(k)dk\n",
    "$$\n",
    "\n",
    "Using the inverse Fourier transform, we can retrieve the call price:\n",
    "\n",
    "$$\n",
    "C_{T}(k) = \\frac{e^{- \\alpha k}}{2\\pi}\\int_{-\\infty}^{\\infty}e^{-ivk}\\Psi_{T}(v)dv\n",
    "$$\n",
    "\n",
    "Since $C_{T}(k)$ is real:\n",
    "\n",
    "$$\n",
    "C_{T}(k) = \\frac{e^{- \\alpha k}}{\\pi}\\int_{0}^{\\infty}e^{-ivk}\\Psi_{T}(v)dv\n",
    "$$\n",
    "\n",
    "Now if we look back at the forward Fourier transform, may compute it explicitely:\n",
    "\n",
    "$$\n",
    "\\Psi_{T}(v) = \\int_{-\\infty}^{\\infty} e^{ivk} \\int_{k}^{+\\infty}e^{\\alpha k} e^{-rT}(e^{s} - e^{k})q_{T}(s) dsdk\n",
    "$$\n",
    "\n",
    "Inversing the integrals:\n",
    "\n",
    "$$\n",
    "\\Psi_{T}(v) = \\int_{-\\infty}^{\\infty} e^{-rT} q_{T}(s)\\int_{-\\infty}^{s}(e^{s+\\alpha k} - e^{1+\\alpha}k)e^{ivk}dkds\n",
    "$$\n",
    "\n",
    "$$\n",
    "\\Psi_{T}(v) = \\int_{-\\infty}^{\\infty} e^{-rT} q_{T}(s) \\left(\\frac{e^{(\\alpha + 1 + iv)s}}{\\alpha + iv} - \\frac{e^{(\\alpha + 1 + iv)s}}{\\alpha + 1 + iv}\\right) ds\n",
    "$$\n",
    "\n",
    "$$\n",
    "\\Psi_{T}(v) = \\frac{e^{-rT}}{\\alpha^{2} + \\alpha - v^{2} + i(2\\alpha + 1)v}   \\int_{-\\infty}^{\\infty} e^{i(v -(\\alpha + 1)i)s} q_{T}(s) ds\n",
    "$$\n",
    "\n",
    "Which is exactly, by using the characteristic function of the log-price:\n",
    "\n",
    "$$\n",
    "\\Psi_{T}(v) = \\frac{e^{-rT} \\phi_{T}(v - (\\alpha + 1)i)}{\\alpha^{2} + \\alpha - v^{2} + i(2\\alpha + 1)v} \n",
    "$$\n",
    "\n",
    "Hence, we could replace that on our equation for $C_{T}(k)$:\n",
    "\n",
    "$$\n",
    "C_{T}(k) = \\frac{e^{- \\alpha k}}{\\pi}\\int_{0}^{\\infty}e^{-ivk}\\Psi_{T}(v)dv\n",
    "$$\n",
    "\n",
    "To obtain the price of our call. We remark that this is simply a direct Fourier transform. As indicated in the paper, we remark that the denominator vanishes when both $\\alpha = 0$ and $v = 0$, inducing a singularity, which reinforces the choice of adding $\\alpha$ for integrability purposes."
   ]
  },
  {
   "attachments": {},
   "cell_type": "markdown",
   "metadata": {},
   "source": [
    "## Adressing the choice of $\\alpha$"
   ]
  },
  {
   "attachments": {},
   "cell_type": "markdown",
   "metadata": {},
   "source": [
    "## Option pricing using FFT"
   ]
  },
  {
   "attachments": {},
   "cell_type": "markdown",
   "metadata": {},
   "source": [
    "Now we move to the numerical part of the problem. Here we attempt to rewrite the integration of the previous section as a summation that allows direct application of the FFT.\n",
    "\n",
    "Set $v_{j} = \\eta(j-1)$. Using the trapezoid rule on the integral:\n",
    "\n",
    "$$\n",
    "C_{T}(k) \\approx \\frac{e^{-\\alpha k}}{\\pi} \\sum_{j=1}^{N} e^{-iv_{j}k}\\Psi_{T}(v_{j})\\eta\n",
    "$$\n",
    "\n",
    "Which we do by setting the upper limit of our integral at $a = N\\eta$\n",
    "\n",
    "In other words, we simply fixed $a$ to be the limit of our integral and created a grid of with $N$ steps in our summation.\n",
    "\n",
    "Since we are interest in at-the-money call values we are looking at values of $k$ that are near 0.\n",
    "\n",
    "The FFT shall return $N$ values of $k$ to which we employ a regular spacing of size $\\lambda$, hence, our values of $k$ are:\n",
    "\n",
    "$$\n",
    "k_{u} = -b + \\lambda (u-1), \\quad u\\in \\{1,\\dots, N\\}\n",
    "$$\n",
    "\n",
    "We now replace substitute these values on our summation:\n",
    "\n",
    "$$\n",
    "C_{T}(k_{u}) \\approx \\frac{e^{-\\alpha k_{u}}}{\\pi} \\sum_{j=1}^{N} e^{-iv_{j}k_{u}}\\Psi_{T}(v_{j})\\eta\n",
    "$$\n",
    "\n",
    "$$\n",
    "C_{T}(k_{u}) \\approx \\frac{e^{-\\alpha k_{u}}}{\\pi} \\sum_{j=1}^{N} e^{-iv_{j}[-b+\\lambda (u-1)]}\\Psi_{T}(v_{j})\\eta\n",
    "$$\n",
    "\n",
    "$$\n",
    "C_{T}(k_{u}) \\approx \\frac{e^{-\\alpha k_{u}}}{\\pi} \\sum_{j=1}^{N} e^{-iv_{j}\\lambda (u-1)}e^{ibv_{j}}\\Psi_{T}(v_{j})\\eta\n",
    "$$\n",
    "\n",
    "We can also replace $v_{j}$:\n",
    "\n",
    "$$\n",
    "C_{T}(k_{u}) \\approx \\frac{e^{-\\alpha k_{u}}}{\\pi} \\sum_{j=1}^{N} e^{-i\\eta\\lambda(j-1)(u-1)}e^{ibv_{j}}\\Psi_{T}(v_{j})\\eta\n",
    "$$\n",
    "\n",
    "To apply the fast Fourier transform we must guarantee therefore:\n",
    "\n",
    "$$\n",
    "\\lambda \\eta = \\frac{2\\pi}{N}\n",
    "$$\n",
    "\n",
    "Hence there is a clear trade off between having a fine grid with $\\eta$ small, and having a small space between the values of $k_{u}$ that we are able to compute.\n",
    "\n",
    "To be able to maintain accurate enough integration with larger values of $\\eta$ we can incorporate Simpson's rule (composite Simpson's 1/3 rule), rewriting our summation as:\n",
    "\n",
    "$$\n",
    "C_{T}(k_{u}) \\approx \\frac{e^{-\\alpha k_{u}}}{\\pi} \\sum_{j=1}^{N} e^{-i\\frac{2\\pi}{N}(j-1)(u-1)}e^{ibv_{j}}\\Psi_{T}(v_{j})\\frac{\\eta}{3}[3+(-1)^{j} - \\delta_{j-1}]\n",
    "$$\n",
    "\n",
    "It is our task to therefore choose appropriately $\\lambda$ and $\\alpha$"
   ]
  },
  {
   "attachments": {},
   "cell_type": "markdown",
   "metadata": {},
   "source": [
    "## Computing the Heston characteristic function $\\phi$"
   ]
  },
  {
   "attachments": {},
   "cell_type": "markdown",
   "metadata": {},
   "source": [
    "The heston stochastic model is given by the system of SDE :\n",
    "\n",
    "$$dS_t = \\mu S_t dt + \\sqrt{V_t} S_t dW_S(t)$$\n",
    "$$dV_t = \\kappa (\\theta - V_t) dt + \\omega \\sqrt{V_t} d W_V(t)$$\n",
    "\n",
    "with correlated Brownian motions $dW_S(t)dW_V(t) =  \\rho dt$, and two initial state $S_0$ and $V_0$."
   ]
  },
  {
   "attachments": {},
   "cell_type": "markdown",
   "metadata": {},
   "source": [
    "We recall the characteristic function of $S_t$ : $$\\phi(u) = \\mathbb{E}[S_t^{iu}] = \\mathbb{E}[e^{iu \\ln(S_T)}] $$"
   ]
  },
  {
   "attachments": {},
   "cell_type": "markdown",
   "metadata": {},
   "source": [
    "You can find the computation of the characteristic function in the original paper of Heston, and it's defined as follow :\n",
    "\n",
    "$$\\phi(u) = e^{C(u) + D(u)V_0 + iu \\ln F} $$\n",
    "\n",
    "Where\n",
    "\n",
    "$$F =S_0 e^{\\mu T}$$\n",
    "\n",
    "$$C(u) = \\frac{\\kappa \\theta}{\\omega^2} \\left( (\\kappa - \\rho \\omega u i + d(u))T - 2 \\ln \\left(\\frac{c(u)e^{d(u)T} - 1}{c(u) - 1} \\right) \\right)$$\n",
    "\n",
    "$$D(u) = \\frac{\\kappa - \\rho \\omega u i + d(u)}{\\omega^2} \\cdot \\frac{e^{d(u)T} - 1}{c(u)e^{d(u)T} - 1}$$\n",
    "\n",
    "\n",
    "with \n",
    "\n",
    "$$ c(u) = \\frac{\\kappa - \\rho \\omega u i + d(u)}{\\kappa - \\rho \\omega u i - d(u)}, \\ \\  \\ \\  \\ \\   d(u)  = \\sqrt{(\\rho \\omega u i - \\kappa)^2 + iu\\omega^2 + \\omega^2 u^2}$$ "
   ]
  },
  {
   "attachments": {},
   "cell_type": "markdown",
   "metadata": {},
   "source": [
    "One can notice that these equations make use of the logarithm of complex numbers, which is a function that is could have multiplied definition, and not continuous.\n",
    "\n",
    "for example, if $z = x + iy =  r_z e^{i t_z} $ where $ t_z \\in ]-\\pi, \\pi] $, the logarithm of $z$ in python liberaries is : \n",
    "\n",
    "$$log(z) = log(r_z) + i t_z$$\n",
    "\n",
    "Called the principal branche.\n"
   ]
  },
  {
   "attachments": {},
   "cell_type": "markdown",
   "metadata": {},
   "source": [
    "- We studied the paper of C.Kahl, P.Jackel [\"Not-so-complex logarithms in the Heston model\"], where the authors pointed out the errors of option pricing involving Heston stochastics model due to the evaluation of complex argument.\n",
    "- The paper proposes an alternative to solve this issue, and that garanties the continuity of the $\\phi(u)$"
   ]
  },
  {
   "attachments": {},
   "cell_type": "markdown",
   "metadata": {},
   "source": [
    "First of all, we write in another way the characteristic function :\n",
    "\n",
    "$$\\phi(u) = G(u)^{-2\\gamma} e^{R(u) + D(u)V_0 + iu \\ln F} $$\n",
    "\n",
    "where $$G(u) = \\frac{c(u)e^{d(u)T} - 1}{c(u)-1}, \\ \\   R(u) = \\gamma (\\kappa - \\rho \\omega u i + d(u))T,  \\ \\  \\gamma = \\frac{\\kappa \\theta}{\\omega^2}$$\n",
    "\n",
    "As such $C(u) = R(u) - 2\\gamma \\ln G(u)$\n",
    "\n"
   ]
  },
  {
   "attachments": {},
   "cell_type": "markdown",
   "metadata": {},
   "source": [
    "Now we reduce the problem on the computation of $\\ln G(u)$\n",
    "\n",
    "To do that the paper introduces these following quantities :\n",
    " \n",
    "$$ c = r_c e^{it_c}$$\n",
    "$$ d = a_d + i b_d$$\n",
    "$$ c - 1 =  r^* e^{i(\\chi^* + 2\\pi m)}$$\n",
    "where $ m = [(t_c + \\phi) / (2 \\pi)] $, $\\chi^* = arg(c-1)$ and $r^* = |c-1|$\n",
    "\n",
    "$$ce^{dT} - 1 = r^{**}e^{i(\\chi^{**} + 2\\pi n)}$$\n",
    "where $ n = [(t_c + b_d T + \\pi) / (2\\pi)] $, $\\chi^* = arg(ce^{dT} - 1)$ and $r^* = |ce^{dT} - 1|$\n",
    "\n",
    "\n",
    "with these defined variables we obtain :\n",
    "\n",
    "$$G(u) = \\frac{ce^{dT} - 1}{c-1} = \\frac{r^*}{r^{**}} e^{\\chi^{**} - \\chi^{*} + 2\\pi(n-m)}$$\n",
    "\n",
    "\n",
    "Hence the logarithm of $G(u)$ can be expressed as :\n",
    "\n",
    "$$ \\ln G(u) = \\ln (\\frac{r^*}{r^{**}}) + i [\\chi^{**} - \\chi^{*} + 2\\pi(n-m)]$$"
   ]
  },
  {
   "cell_type": "code",
   "execution_count": 29,
   "metadata": {},
   "outputs": [],
   "source": [
    "# Implementation\n",
    "def phi(S0, V0,  T, u,  mu, kappa, theta, omega, rho):\n",
    "    \"\"\"returns the characteristic function of a heston model on a maturity T\n",
    "    and on the point u\n",
    "\n",
    "    Args:\n",
    "        S0 (float): the initial value of the asset\n",
    "        V0 (float): the initial value of squared volatility\n",
    "        T (float): the maturity\n",
    "        u (float): the point of evaluation of phi \n",
    "        @parameters of the Heston model\n",
    "        mu (float)\n",
    "        kappa (float)\n",
    "        theta (float)\n",
    "        omega (float)\n",
    "        rho (float)\n",
    "    \"\"\"\n",
    "\n",
    "    # Define F\n",
    "    \n",
    "    F = S0 * np.exp(mu * T)\n",
    "    \n",
    "    # Complex unit i\n",
    "\n",
    "    i = complex(0, 1)\n",
    "\n",
    "    # Line 1: Calculate d\n",
    "\n",
    "    d = np.sqrt((rho * omega * u * i - kappa)**2 + omega**2 * (u*i + u**2))\n",
    "\n",
    "    # Line 2: Calculate c\n",
    "\n",
    "    c = (kappa - rho * omega * u * i + d) / (kappa - rho * omega * u * i - d)\n",
    "\n",
    "    # Line 3: Calculate tc (argument of c)\n",
    "\n",
    "    tc = np.angle(c)\n",
    "\n",
    "    # Line 4: Calculate GD\n",
    "\n",
    "    GD = c - 1\n",
    "\n",
    "    # Line 5: Calculate m\n",
    "\n",
    "    m = int((tc + np.pi) / (2 * np.pi))\n",
    "\n",
    "    # Line 6: Calculate GN\n",
    "\n",
    "    GN = c * np.exp(d * T) - 1\n",
    "\n",
    "    # Line 7: Calculate n\n",
    "\n",
    "    n = int((tc + np.imag(d) * T + np.pi) / (2 * np.pi))\n",
    "\n",
    "    # Line 8: Calculate lnG\n",
    "\n",
    "    lnG = np.log(np.abs(GN) / np.abs(GD)) + i * (np.angle(GN) - np.angle(GD) + 2 * np.pi * (n - m))\n",
    "\n",
    "    # Line 9: Calculate D\n",
    "\n",
    "    D = (kappa - rho * omega * u * i + d) / (omega**2)  *  ((np.exp(d * T) - 1) / (c * np.exp(d*T) - 1))\n",
    "\n",
    "    # Line 10: Calculate C\n",
    "\n",
    "    C = ((kappa * theta) / (omega**2))  *  ((kappa - rho * omega * u * i + d) * T - 2 * lnG)\n",
    "\n",
    "    # Line 11: return phi\n",
    "\n",
    "    return np.exp(C + D * V0 + i * u * np.log(F))\n"
   ]
  },
  {
   "cell_type": "code",
   "execution_count": 166,
   "metadata": {},
   "outputs": [],
   "source": [
    "from tqdm import tqdm"
   ]
  },
  {
   "cell_type": "code",
   "execution_count": 485,
   "metadata": {},
   "outputs": [],
   "source": [
    "# Simulation parameters\n",
    "\n",
    "S0 = 1\n",
    "V0 = 0.2#0.16 \n",
    "T = 1\n",
    "mu = 0\n",
    "r = mu\n",
    "kappa = 1 \n",
    "theta = 0.4#0.16 \n",
    "omega = 1.4#2 \n",
    "rho = -.9#-.8"
   ]
  },
  {
   "cell_type": "code",
   "execution_count": 486,
   "metadata": {},
   "outputs": [
    {
     "data": {
      "text/plain": [
       "(-1+0j)"
      ]
     },
     "execution_count": 486,
     "metadata": {},
     "output_type": "execute_result"
    }
   ],
   "source": [
    "complex(0,complex(0,1))"
   ]
  },
  {
   "cell_type": "code",
   "execution_count": 501,
   "metadata": {},
   "outputs": [],
   "source": [
    "'''\n",
    "# Pricing option\n",
    "\n",
    "We have therefore the following problem\n",
    "\n",
    "$$\n",
    "C_{T}(k) \\approx \\frac{e^{-\\alpha k}}{\\pi} \\sum_{j=1}^{N} e^{-iv_{j}k}\\Psi_{T}(v_{j})\\eta\n",
    "$$\n",
    "\n",
    "$$\n",
    "\\Psi_{T}(v) = \\frac{e^{-rT} \\phi_{T}(v - (\\alpha + 1)i)}{\\alpha^{2} + \\alpha - v^{2} + i(2\\alpha + 1)v} \n",
    "$$\n",
    "\n",
    "Hence, we could replace that on our equation for $C_{T}(k)$:\n",
    "\n",
    "$$\n",
    "C_{T}(k) = \\frac{e^{- \\alpha k}}{\\pi}\\int_{0}^{\\infty}e^{-ivk}\\Psi_{T}(v)dv\n",
    "$$\n",
    "'''\n",
    "\n",
    "def big_phi(S0, V0, T, v, mu, kappa, theta, omega, rho, r, alpha):\n",
    "    assert(mu == r)\n",
    "\n",
    "    u = v - complex(0, alpha+1)\n",
    "    phi_T = phi(S0, V0, T, u, mu, kappa, theta, omega, rho)\n",
    "\n",
    "    return np.exp(-r*T) * phi_T / (alpha**2 + alpha - v**2 + complex(0,(2*alpha + 1) * v))\n",
    "\n",
    "def compute_price(N, a, alpha, S0, V0, T, mu, kappa, theta, omega, rho, r):\n",
    "    eta = a/N\n",
    "    lamb = 2*np.pi / (N * eta)\n",
    "    b = N*lamb/2\n",
    "\n",
    "    vs = eta * np.arange(N)\n",
    "    ks = - b + lamb * np.arange(N)\n",
    "    \n",
    "    grid = [(3 + (-1)**i - (i == 0))/3 for i in range(N)]\n",
    "\n",
    "    ks = ks[(np.exp(ks) > 0.4) & (np.exp(ks) < 1.6)]\n",
    "    C_k = [complex(0,0) for _ in range(len(ks))]\n",
    "\n",
    "    idx = 0\n",
    "    for k in tqdm(ks):\n",
    "        curr_sum = complex(0,0)\n",
    "        for id, v in enumerate(vs):\n",
    "            curr_sum += np.sum(np.exp(-complex(0,v*k)) * big_phi(S0, V0, T, v, mu, kappa, theta, omega, rho, r, alpha)) * eta * grid[id]\n",
    "        \n",
    "        C_k[idx] = (np.exp(-alpha * k) / np.pi) * curr_sum\n",
    "        idx += 1\n",
    "    \n",
    "    return ks, C_k    "
   ]
  },
  {
   "cell_type": "code",
   "execution_count": 502,
   "metadata": {},
   "outputs": [
    {
     "name": "stderr",
     "output_type": "stream",
     "text": [
      "100%|██████████| 220/220 [00:28<00:00,  7.64it/s]\n"
     ]
    }
   ],
   "source": [
    "N = 10000 # good\n",
    "a = 1000 # good\n",
    "alpha = 3\n",
    "\n",
    "ks, C_k = compute_price(N, a, alpha, S0, V0, T, mu, kappa, theta, omega, rho, r)"
   ]
  },
  {
   "cell_type": "code",
   "execution_count": 503,
   "metadata": {},
   "outputs": [
    {
     "data": {
      "text/plain": [
       "[<matplotlib.lines.Line2D at 0x7f75037479d0>]"
      ]
     },
     "execution_count": 503,
     "metadata": {},
     "output_type": "execute_result"
    },
    {
     "data": {
      "image/png": "[encoded data removed]",
      "text/plain": [
       "<Figure size 640x480 with 1 Axes>"
      ]
     },
     "metadata": {},
     "output_type": "display_data"
    }
   ],
   "source": [
    "o = [x.real for x in C_k]\n",
    "plt.plot(np.exp(ks), o, label = '0.5')"
   ]
  },
  {
   "cell_type": "code",
   "execution_count": 504,
   "metadata": {},
   "outputs": [
    {
     "name": "stderr",
     "output_type": "stream",
     "text": [
      "100%|██████████| 220/220 [00:28<00:00,  7.63it/s]\n",
      "100%|██████████| 220/220 [00:28<00:00,  7.63it/s]\n",
      "100%|██████████| 220/220 [00:28<00:00,  7.64it/s]\n",
      "100%|██████████| 220/220 [00:28<00:00,  7.64it/s]\n",
      "100%|██████████| 220/220 [00:28<00:00,  7.64it/s]\n"
     ]
    }
   ],
   "source": [
    "_, C_k_05 = compute_price(N, a,0.5, S0, V0, T, mu, kappa, theta, omega, rho, r)\n",
    "_, C_k_1 = compute_price(N, a, 1, S0, V0, T, mu, kappa, theta, omega, rho, r)\n",
    "_, C_k_2 = compute_price(N, a, 2, S0, V0, T, mu, kappa, theta, omega, rho, r)\n",
    "_, C_k_3 = compute_price(N, a, 3, S0, V0, T, mu, kappa, theta, omega, rho, r)\n",
    "_, C_k_10 = compute_price(N, a, 10, S0, V0, T, mu, kappa, theta, omega, rho, r)"
   ]
  },
  {
   "cell_type": "code",
   "execution_count": 505,
   "metadata": {},
   "outputs": [],
   "source": [
    "C_k_05r = [x.real for x in C_k_05]\n",
    "C_k_1r = [x.real for x in C_k_1]\n",
    "C_k_2r = [x.real for x in C_k_2]\n",
    "C_k_3r = [x.real for x in C_k_3]\n",
    "C_k_10r = [x.real for x in C_k_10]"
   ]
  },
  {
   "cell_type": "code",
   "execution_count": 506,
   "metadata": {},
   "outputs": [],
   "source": [
    "df = np.concatenate([np.array(C_k_05r).reshape(len(C_k_05),1), \n",
    "                     np.array(C_k_1r).reshape(len(C_k_05),1), \n",
    "                     np.array(C_k_2r).reshape(len(C_k_05),1), \n",
    "                     np.array(C_k_3r).reshape(len(C_k_05),1), \n",
    "                     np.array(C_k_10r).reshape(len(C_k_05),1)], axis = 1)"
   ]
  },
  {
   "cell_type": "code",
   "execution_count": 510,
   "metadata": {},
   "outputs": [
    {
     "data": {
      "image/png": "[encoded data removed]",
      "text/plain": [
       "<Figure size 640x480 with 1 Axes>"
      ]
     },
     "metadata": {},
     "output_type": "display_data"
    }
   ],
   "source": [
    "plt.plot(np.exp(ks), C_k_05r, label = '0.5')\n",
    "plt.plot(np.exp(ks), C_k_1r, label = '1')\n",
    "plt.plot(np.exp(ks), C_k_2r, label = '2')\n",
    "plt.plot(np.exp(ks), C_k_3r, label = '3')\n",
    "# plt.plot(np.exp(ks)[40:], C_k_10r[40:])\n",
    "plt.legend()\n",
    "plt.show()"
   ]
  }
 ],
 "metadata": {
  "kernelspec": {
   "display_name": "venv",
   "language": "python",
   "name": "python3"
  },
  "language_info": {
   "codemirror_mode": {
    "name": "ipython",
    "version": 3
   },
   "file_extension": ".py",
   "mimetype": "text/x-python",
   "name": "python",
   "nbconvert_exporter": "python",
   "pygments_lexer": "ipython3",
   "version": "3.9.18"
  },
  "orig_nbformat": 4
 },
 "nbformat": 4,
 "nbformat_minor": 2
}
