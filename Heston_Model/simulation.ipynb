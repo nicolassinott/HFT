{
 "cells": [
  {
   "cell_type": "code",
   "execution_count": 2,
   "metadata": {},
   "outputs": [],
   "source": [
    "import numpy as np"
   ]
  },
  {
   "attachments": {},
   "cell_type": "markdown",
   "metadata": {},
   "source": [
    "# On the discretization schemes for the CIR (and Bessel squared) processes"
   ]
  },
  {
   "attachments": {},
   "cell_type": "markdown",
   "metadata": {},
   "source": [
    "In this notebook we study the paper from Aurélien Alfonsi in order to achieve a better simulation of the Heston model. Here we will dive in more detail on the construction of the model that will be used in other studies."
   ]
  },
  {
   "attachments": {},
   "cell_type": "markdown",
   "metadata": {},
   "source": [
    "Here we will assume that:\n",
    "\n",
    "$$\n",
    "X_{t} = x_{0} + \\int_{0}^{t}(a - k X_{s}) ds + \\sigma \\int_{0}^{t} \\sqrt{X_{s}} dW_{s}\n",
    "$$\n",
    "\n",
    "We will also assume that $x_{0}, \\sigma, a \\geq 0$, $k\\in\\mathbb{R}$. Furthermore, to guarantee that the process is always positive, we will ensure the following conditions:\n",
    "\n",
    "$$\n",
    "2a > \\sigma^{2} \\quad \\text{and} \\quad x_{0} > 0\n",
    "$$\n",
    "\n",
    "We will denote $t_{i} = i \\frac{T}{N}$, where $T$ is the total time of our simulation."
   ]
  },
  {
   "attachments": {},
   "cell_type": "markdown",
   "metadata": {},
   "source": [
    "## Motivations"
   ]
  },
  {
   "attachments": {},
   "cell_type": "markdown",
   "metadata": {},
   "source": [
    "As mentioned in this paper, altough it is well known that we could simulate exactly the increments of the CIR process (non-central chi-squared random variables), we deal in other studies with processes that evolve with two correlated Brownian motions. Therefore simulating such as Glasserman, pp. 120-134 (Glasserman, P. (2003). Monte Carlo Methods in Financial Engineering *Springer, Series : Applications of Mathematics , Vol. 53*)"
   ]
  },
  {
   "attachments": {},
   "cell_type": "markdown",
   "metadata": {},
   "source": [
    "## Ways to simulate the process"
   ]
  },
  {
   "attachments": {},
   "cell_type": "markdown",
   "metadata": {},
   "source": [
    "### Euler-Maruyama scheme\n",
    "\n",
    "$$\n",
    "\\hat{X}^{n}_{t_{i+1}} = \\hat{X}^{n}_{t_{i}} + \\frac{T}{n}(a - k\\hat{X}^{n}_{t_{i}}) + \\sigma\\sqrt{\\hat{X}^{n}_{t_{i}}}(W_{t_{i+1}} - W_{t_{i}}) \n",
    "$$\n",
    "\n",
    "Main limitation of simulating in such a way is that we can reach negative values in our simulation."
   ]
  },
  {
   "cell_type": "code",
   "execution_count": 3,
   "metadata": {},
   "outputs": [],
   "source": [
    "def cir_euler_maruyama(k: float, a: float, sigma: float, x0: float, n: int, M: int, T: float) -> np.array:\n",
    "    dt = T / n \n",
    "\n",
    "    dW = np.random.normal(0, np.sqrt(dt), (M, n))\n",
    "    \n",
    "    # Initialize the matrix to store the paths\n",
    "    X = np.zeros((M, n+1))\n",
    "    X[:, 0] = x0\n",
    "\n",
    "    for i in range(n):\n",
    "        X[:, i+1] = X[:, i] + dt * (a - k * X[:, i]) + sigma * np.sqrt(X[:, i]) * dW[:, i]\n",
    "\n",
    "    return X"
   ]
  },
  {
   "attachments": {},
   "cell_type": "markdown",
   "metadata": {},
   "source": [
    "### Deelstra and Delbaen\n",
    "\n",
    "$$\n",
    "\\hat{X}^{n}_{t_{i+1}} = \\hat{X}^{n}_{t_{i}} + \\frac{T}{n}(a - k\\hat{X}^{n}_{t_{i}}) + \\sigma\\sqrt{\\hat{X}^{n}_{t_{i}}\\mathbf{1}_{\\hat{X}^{n}_{t_{i}} > 0}}(W_{t_{i+1}} - W_{t_{i}}) \n",
    "$$"
   ]
  },
  {
   "cell_type": "code",
   "execution_count": null,
   "metadata": {},
   "outputs": [],
   "source": [
    "def cir_deelstra_delbaen(k: float, a: float, sigma: float, x0: float, n: int, M: int, T: float) -> np.array:\n",
    "    dt = T / n \n",
    "\n",
    "    dW = np.random.normal(0, np.sqrt(dt), (M, n))\n",
    "    \n",
    "    # Initialize the matrix to store the paths\n",
    "    X = np.zeros((M, n+1))\n",
    "    X[:, 0] = x0\n",
    "\n",
    "    for i in range(n):\n",
    "        X[:, i+1] = X[:, i] + dt * (a - k * X[:, i]) + sigma * np.sqrt(X[:, i]) * (X[:, i] > 0) * dW[:, i]\n",
    "\n",
    "    return X"
   ]
  },
  {
   "attachments": {},
   "cell_type": "markdown",
   "metadata": {},
   "source": [
    "### Diop \n",
    "\n",
    "$$\n",
    "\\hat{X}^{n}_{t_{i+1}} = \\left|\\hat{X}^{n}_{t_{i}} + \\frac{T}{n}(a - k\\hat{X}^{n}_{t_{i}}) + \\sigma\\sqrt{\\hat{X}^{n}_{t_{i}}}(W_{t_{i+1}} - W_{t_{i}})\\right|\n",
    "$$"
   ]
  },
  {
   "cell_type": "code",
   "execution_count": null,
   "metadata": {},
   "outputs": [],
   "source": [
    "def cir_diop(k: float, a: float, sigma: float, x0: float, n: int, M: int, T: float) -> np.array:\n",
    "    dt = T / n \n",
    "\n",
    "    dW = np.random.normal(0, np.sqrt(dt), (M, n))\n",
    "    \n",
    "    # Initialize the matrix to store the paths\n",
    "    X = np.zeros((M, n+1))\n",
    "    X[:, 0] = x0\n",
    "\n",
    "    for i in range(n):\n",
    "        X[:, i+1] = np.abs(X[:, i] + dt * (a - k * X[:, i]) + sigma * np.sqrt(X[:, i]) * dW[:, i])\n",
    "\n",
    "    return X"
   ]
  },
  {
   "attachments": {},
   "cell_type": "markdown",
   "metadata": {},
   "source": [
    "### Implicit methods\n",
    "\n",
    "We can use two different implicit methods in order to get the evolution of our process, the first by developping the $X$ and the other $X^{\\frac{1}{2}}$.\n",
    "\n",
    "For $X$:\n",
    "\n",
    "$$\n",
    "\\hat{X}^{n}_{t_{i+1}} = \\hat{X}^{n}_{t_{i}} + \\left( a - \\frac{\\sigma^{2}}{2} -k \\hat{X}^{n}_{t_{i+1}} \\right) \\frac{T}{n} + \\sigma \\sqrt{\\hat{X}^{n}_{t_{i+1}}} (W_{t_{i+1}} - W_{t_{i}}) \n",
    "$$\n",
    "\n",
    "Under the assumptions that $\\hat{X}^{n}_{t_{i}} \\geq 0$, $\\frac{T}{n} \\leq \\frac{1}{k^{-}}$ (where $y^{-} = \\text{max}(-y,0)$, which shall always be the case in the other notebooks since $k > 0$). The unque positive root of our equation is then:\n",
    "\n",
    "$$\n",
    "\\hat{X}^{n}_{t_{i+1}} = \\left( \\frac{\\sigma (W_{t_{i+1}} - W_{t_{i}}) + \\sqrt{\\sigma^{2}(W_{t_{i+1}} - W_{t_{i}})^{2} + 4(\\hat{X}^{n}_{t_{i}} + (a - \\frac{\\sigma^{2}}{2}) \\frac{T}{n}) (1 + k\\frac{T}{n}) }}{2(1 + k\\frac{T}{n})} \\right)^{2}\n",
    "$$\n",
    "\n",
    "For $\\sqrt{X}$:\n",
    "\n",
    "$$\n",
    "d\\sqrt{X_{t}} = \\frac{a-\\frac{\\sigma^{2}}{4}}{2\\sqrt{X_{t}}}dt - \\frac{k}{2} \\sqrt{X_{t}} dt + \\frac{\\sigma}{2} dW_{t}\n",
    "$$\n",
    "\n",
    "Which gives:\n",
    "\n",
    "$$\n",
    "\\left(1 + \\frac{kT}{2n}\\right)X^{n}_{t_{i}} - \\left[\\frac{\\sigma}{2} (W_{t_{i+1}} - W_{t_{i}}) + \\sqrt{X^{n}_{t_{i}}} \\right]X^{n}_{t_{i+1}} - \\frac{a - \\frac{\\sigma^{2}}{4}}{2}\\frac{T}{n} = 0\n",
    "$$\n",
    "\n",
    "Having as solution:\n",
    "\n",
    "$$\n",
    "\\hat{X}^{n}_{t_{i+1}} = \\left( \\frac{ \\frac{\\sigma}{2}(W_{t_{i+1}} - W_{t_{i}}) + \\sqrt{\\hat{X}^{n}_{t_{i}}} +\\sqrt{(\\frac{\\sigma}{2}(W_{t_{i+1}} - W_{t_{i}}) + \\sqrt{\\hat{X}^{n}_{t_{i}}})^{2} + 4 \\left(1 + \\frac{kT}{2n}\\right)\\frac{a - \\frac{\\sigma^{2}}{4}}{2}\\frac{T}{n}}}{2\\left(1 + \\frac{kT}{2n}\\right)} \\right)^{2}\n",
    "$$"
   ]
  },
  {
   "cell_type": "code",
   "execution_count": 31,
   "metadata": {},
   "outputs": [],
   "source": [
    "def implicit_diffusion(k: float, a: float, sigma: float, x0: float, n: int, M: int, T: float) -> np.array:\n",
    "    dW = np.random.normal(0, np.sqrt(T/n), (M, n))\n",
    "    X = np.zeros((M, n+1))\n",
    "    X[:, 0] = x0\n",
    "    \n",
    "    for i in range(n):\n",
    "        X[:, i+1] = ((sigma * dW[:, i] + np.sqrt(sigma**2 * dW[:, i]**2 + 4 * (X[:, i] + (a - 0.5*sigma**2) * (T/n)) * (1 + k * (T/n)))) / (2 * (1 + k * (T/n))))**2\n",
    "\n",
    "    return X\n",
    "\n",
    "def implicit_drift(k: float, a: float, sigma: float, x0: float, n: int, M: int, T: float) -> np.array:\n",
    "    dW = np.random.normal(0, np.sqrt(T/n), (M, n))\n",
    "    X = np.zeros((M, n+1))\n",
    "    X[:, 0] = x0\n",
    "    \n",
    "    for i in range(n):\n",
    "        X[:, i+1] = ((sigma/2 * dW[:, i] + np.sqrt(X[:, i]) + np.sqrt((sigma/2 * dW[:, i] + np.sqrt(X[:, i]))**2 + 4 * (1 + k * T/(2*n)) * (a - sigma**2/4) * T/(n))) / (2 * (1 + k * T/(2*n))))**2\n",
    "\n",
    "    return X"
   ]
  },
  {
   "attachments": {},
   "cell_type": "markdown",
   "metadata": {},
   "source": []
  }
 ],
 "metadata": {
  "kernelspec": {
   "display_name": "Python 3",
   "language": "python",
   "name": "python3"
  },
  "language_info": {
   "codemirror_mode": {
    "name": "ipython",
    "version": 3
   },
   "file_extension": ".py",
   "mimetype": "text/x-python",
   "name": "python",
   "nbconvert_exporter": "python",
   "pygments_lexer": "ipython3",
   "version": "3.11.4"
  }
 },
 "nbformat": 4,
 "nbformat_minor": 2
}
