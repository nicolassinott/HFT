{
 "cells": [
  {
   "cell_type": "code",
   "execution_count": 2,
   "metadata": {},
   "outputs": [],
   "source": [
    "import numpy as np\n",
    "import scipy"
   ]
  },
  {
   "attachments": {},
   "cell_type": "markdown",
   "metadata": {},
   "source": [
    "# Optimal Execution of Portifolio Transactions"
   ]
  },
  {
   "attachments": {},
   "cell_type": "markdown",
   "metadata": {},
   "source": [
    "This notebook contains a simulation inspired on the paper from Robert Almgren and Neil Chriss of \"Optimal Execution of Portifolio Transactions\". Please refer to the paper for the demonstration of certain formulas used in this notebook."
   ]
  },
  {
   "attachments": {},
   "cell_type": "markdown",
   "metadata": {},
   "source": [
    "## Strategy and price dynamics"
   ]
  },
  {
   "attachments": {},
   "cell_type": "markdown",
   "metadata": {},
   "source": [
    "### Permanent impact"
   ]
  },
  {
   "attachments": {},
   "cell_type": "markdown",
   "metadata": {},
   "source": [
    "Here we take the following discretized model for price dynamics with $N$ steps:\n",
    "\n",
    "$$\n",
    "S_{k} = S_{k-1} = \\sigma \\tau^{\\frac{1}{2}} \\xi_{k} - \\tau g\\left(\\frac{n_{k}}{\\tau}\\right)\n",
    "$$\n",
    "\n",
    "We take $\\sigma$ to be the volatility of the asset, $\\tau = \\frac{N}{T}$, $(\\xi_{i})_{i\\in \\{1,\\dots,N\\}}$ a sequence of i.i.d random variables of mean zero and unit variance, $n_{k}$ is the number of assets that were sold at step $k$. For our simulations we will stick to a normal distribution. The term $g$ contains the permanent impact of our strategy on the price of the asset.\n",
    "\n",
    "As in the paper, we take a linear function for $g$, $g(v) = \\gamma v$, hence:\n",
    "\n",
    "$$\n",
    "S_{k} = S_{0} + \\sigma \\sum_{j=1}^{k}\\tau^{\\frac{1}{2}}\\xi_{j} - \\gamma(X - x_{k})\n",
    "$$\n",
    "\n",
    "Where $X$ is the initial portifolio size and $x_{k}$ is the amount of units of the asset we still hold.\n",
    "\n"
   ]
  },
  {
   "attachments": {},
   "cell_type": "markdown",
   "metadata": {},
   "source": [
    "### Temporary impact"
   ]
  },
  {
   "attachments": {},
   "cell_type": "markdown",
   "metadata": {},
   "source": [
    "We will also take the temporary market impact linearly, hence we will assume that every time we trade there is an effective price that we are able to get:\n",
    "\n",
    "$$\n",
    "\\tilde{S}_{k} = S_{k-1} - h(n_{k}) = S_{k-1} - \\epsilon \\text{ sgn}(n_{k}) + \\frac{\\eta}{\\tau}n_{k}\n",
    "$$\n",
    "\n"
   ]
  },
  {
   "attachments": {},
   "cell_type": "markdown",
   "metadata": {},
   "source": [
    "### Total cost of trading"
   ]
  },
  {
   "attachments": {},
   "cell_type": "markdown",
   "metadata": {},
   "source": [
    "Our total cost of trading then becomes:\n",
    "\n",
    "$$\n",
    "-C = \\sum_{k = 1}^{N}n_{k}\\tilde{S}_{k} - XS_{0} = \\sum_{k = 1}^{N}\\left(\\sigma \\tau^{\\frac{1}{2}}\\xi_{k} - \\tau g\\left( \\frac{n_{k}}{\\tau} \\right) \\right) x_{k} - \\sum_{k=1}^{N}n_{k}h\\left(\\frac{n_{k}}{\\tau} \\right)\n",
    "$$\n",
    "\n",
    "Replacing the linear impact:\n",
    "\n",
    "$$\n",
    "-C = \\sum_{k = 1}^{N}\\left(\\sigma \\tau^{\\frac{1}{2}}\\xi_{k} - \\gamma n_{k} \\right) x_{k} - \\sum_{k=1}^{N}n_{k} \\left(\\epsilon\\text{ sgn}(n_{k}) + \\frac{\\eta}{\\tau}n_{k}\\right)\n",
    "$$\n",
    "\n",
    "Assuming all $n_{k}$ have the same positive sign:\n",
    "\n",
    "$$\n",
    "-C = \\sum_{k = 1}^{N}\\left(\\sigma \\tau^{\\frac{1}{2}}\\xi_{k} - \\gamma n_{k} \\right) x_{k} - X\\epsilon - \\frac{\\eta}{\\tau} \\sum_{k=1}^{N}n_{k}^{2} \n",
    "$$\n",
    "\n",
    "$$\n",
    "-C = \\sum_{k = 1}^{N}\\sigma \\tau^{\\frac{1}{2}}\\xi_{k}x_{k} - \\sum_{k = 1}^{N}\\gamma n_{k} x_{k} - X\\epsilon - \\frac{\\eta}{\\tau} \\sum_{k=1}^{N}n_{k}^{2} \n",
    "$$\n",
    "\n",
    "$$\n",
    "-C = \\sum_{k = 1}^{N}\\sigma \\tau^{\\frac{1}{2}}\\xi_{k}x_{k} - \\frac{1}{2}\\gamma X^{2} + \\frac{1}{2} \\gamma \\sum_{k = 1}^{N}\\gamma n_{k}^{2} - X\\epsilon - \\frac{\\eta}{\\tau} \\sum_{k=1}^{N}n_{k}^{2} \n",
    "$$\n",
    "\n",
    "Which should yield in expected value:\n",
    "\n",
    "$$\n",
    "\\mathbb{E}[C] =  \\frac{1}{2}\\gamma X^{2} - \\frac{1}{2} \\gamma \\sum_{k = 1}^{N}n_{k}^{2} + X\\epsilon + \\frac{\\eta}{\\tau} \\sum_{k=1}^{N}n_{k}^{2} \n",
    "$$\n",
    "\n",
    "$$\n",
    "\\mathbb{E}[C] =  \\frac{1}{2}\\gamma X^{2} + \\epsilon X - \\left(\\frac{\\eta}{\\tau} - \\frac{1}{2} \\gamma \\right) \\sum_{k = 1}^{N}n_{k}^{2}\n",
    "$$"
   ]
  },
  {
   "attachments": {},
   "cell_type": "markdown",
   "metadata": {},
   "source": [
    "## Minimum impact"
   ]
  },
  {
   "attachments": {},
   "cell_type": "markdown",
   "metadata": {},
   "source": [
    "Here we model the minimum impact strategy. As it is shown in the paper, it is the one of highest expected value. For this strategy we have the following expected value:\n",
    "\n",
    "$$\n",
    "E = \\frac{1}{2} \\gamma X^{2} + \\epsilon X + (\\eta - \\frac{1}{2}\\gamma \\tau)\\frac{X^{2}}{T}\n",
    "$$\n",
    "\n",
    "In this section we will simulate such strategy and verify if it follows indeed the theoretical prediction."
   ]
  },
  {
   "cell_type": "code",
   "execution_count": 8,
   "metadata": {},
   "outputs": [],
   "source": [
    "# Parameters taken from the paper\n",
    "S0 = 50\n",
    "X = 1e6\n",
    "T = 5\n",
    "N = 5\n",
    "sigma = 0.95\n",
    "eps = 0.0625\n",
    "gamma = 2.5 * 1e-7\n",
    "eta = 2.5 * 1e-6\n",
    "\n",
    "tau = T/N\n",
    "\n",
    "# Generating gaussians\n",
    "xi = np.random.normal(0,1,N)\n",
    "ns = np.ones(N) / N"
   ]
  }
 ],
 "metadata": {
  "kernelspec": {
   "display_name": "Python 3",
   "language": "python",
   "name": "python3"
  },
  "language_info": {
   "codemirror_mode": {
    "name": "ipython",
    "version": 3
   },
   "file_extension": ".py",
   "mimetype": "text/x-python",
   "name": "python",
   "nbconvert_exporter": "python",
   "pygments_lexer": "ipython3",
   "version": "3.11.4"
  },
  "orig_nbformat": 4
 },
 "nbformat": 4,
 "nbformat_minor": 2
}
